{
 "cells": [
  {
   "cell_type": "markdown",
   "metadata": {},
   "source": [
    "# Demo 1\n",
    "\n",
    "<table><tr>\n",
    "    <td><img src=\"image/esi-sba.png\" width=\"100\" height=\"100\"></td>\n",
    "    <td><img src=\"image/mongo.png\" width=\"100\" height=\"100\"></td>\n",
    "    </tr></table>"
   ]
  },
  {
   "cell_type": "markdown",
   "metadata": {},
   "source": [
    "### Lancer un conteneur de MONGO\n",
    "   \n",
    "! docker-compose up –d\n"
   ]
  },
  {
   "cell_type": "markdown",
   "metadata": {},
   "source": [
    "#### installer pymongo afin de se connecter au cluster mongodb\n",
    "\n",
    "! pip install pymongo"
   ]
  },
  {
   "cell_type": "code",
   "execution_count": 2,
   "metadata": {},
   "outputs": [],
   "source": [
    "from pymongo import MongoClient"
   ]
  },
  {
   "cell_type": "markdown",
   "metadata": {},
   "source": [
    "### We are then free to add useful methods as needed. These methods are wrappers for core pymongo collection methods including the following:\n",
    "* find()\n",
    "* find_one()\n",
    "* insert_one()\n",
    "* insert_many()\n",
    "* update_one()\n",
    "* update_many()\n",
    "* delete_one()\n",
    "* delete_many()"
   ]
  },
  {
   "cell_type": "markdown",
   "metadata": {},
   "source": [
    "### Créer un Mongo Client afin d'exécuter nos requêtes sur MONGODB Server"
   ]
  },
  {
   "cell_type": "code",
   "execution_count": 3,
   "metadata": {},
   "outputs": [],
   "source": [
    "client = MongoClient('mongodb://localhost:27017/')"
   ]
  },
  {
   "cell_type": "markdown",
   "metadata": {},
   "source": [
    "###  Afficher les différentes  databases"
   ]
  },
  {
   "cell_type": "code",
   "execution_count": 4,
   "metadata": {},
   "outputs": [
    {
     "data": {
      "text/plain": [
       "['admin', 'config', 'local']"
      ]
     },
     "execution_count": 4,
     "metadata": {},
     "output_type": "execute_result"
    }
   ],
   "source": [
    "client.list_database_names()"
   ]
  },
  {
   "cell_type": "markdown",
   "metadata": {},
   "source": [
    "### Créer une \"database variable\" pour travailler avec la BDD \"db1\""
   ]
  },
  {
   "cell_type": "code",
   "execution_count": 5,
   "metadata": {},
   "outputs": [],
   "source": [
    "db = client[\"db1\"] #use db1"
   ]
  },
  {
   "cell_type": "markdown",
   "metadata": {},
   "source": [
    "### Récupérer les collections de la BDD \"db1\""
   ]
  },
  {
   "cell_type": "code",
   "execution_count": 6,
   "metadata": {},
   "outputs": [
    {
     "data": {
      "text/plain": [
       "[]"
      ]
     },
     "execution_count": 6,
     "metadata": {},
     "output_type": "execute_result"
    }
   ],
   "source": [
    "db.list_collection_names()"
   ]
  },
  {
   "cell_type": "markdown",
   "metadata": {},
   "source": [
    "###  Insérer un document dans la collection \"users\""
   ]
  },
  {
   "cell_type": "code",
   "execution_count": 7,
   "metadata": {},
   "outputs": [
    {
     "data": {
      "text/plain": [
       "<pymongo.results.InsertOneResult at 0x7fe6b55171f0>"
      ]
     },
     "execution_count": 7,
     "metadata": {},
     "output_type": "execute_result"
    }
   ],
   "source": [
    "db[\"users\"].drop()\n",
    "db[\"comments\"].drop()\n",
    "\n",
    "db[\"users\"].insert_one({\n",
    "                    \"_id\":1,\n",
    "                  \"name\": \"Ali\", \n",
    "                  \"login\": \"ali89\", \n",
    "                  \"age\": 29,\n",
    "                  \"address\": {\n",
    "                               \"street\": \"12 gambitta\", \n",
    "                               \"city\": \"sba\"\n",
    "                             },\n",
    "                  \"job\" : ['web', 'BDD']\n",
    "                    })"
   ]
  },
  {
   "cell_type": "markdown",
   "metadata": {},
   "source": [
    "###  #Docs"
   ]
  },
  {
   "cell_type": "code",
   "execution_count": 8,
   "metadata": {},
   "outputs": [
    {
     "data": {
      "text/plain": [
       "1"
      ]
     },
     "execution_count": 8,
     "metadata": {},
     "output_type": "execute_result"
    }
   ],
   "source": [
    "db[\"users\"].count_documents({}) # db.user.countDocuemnts()"
   ]
  },
  {
   "cell_type": "code",
   "execution_count": null,
   "metadata": {},
   "outputs": [],
   "source": [
    "db[\"users\"].find_one()"
   ]
  },
  {
   "cell_type": "markdown",
   "metadata": {},
   "source": [
    "### insertion multiple"
   ]
  },
  {
   "cell_type": "code",
   "execution_count": null,
   "metadata": {},
   "outputs": [],
   "source": [
    "userlist = [\n",
    "  { \"_id\":2,\"name\":\"Ahmed\",\"login\": \"Ahmed77f\", \"age\": 28,\"address\":{\"street\":\"10 maconi\",\"city\": \"sba\"},\"job\" : [\"web\", \"PHP\"]},\n",
    "  { \"_id\":3,\"name\":\"said\",\"login\": \"saidyy\", \"age\": 25,\"address\":{\"city\": \"oran\"},\"job\" : [\"web\", \"JAVA\",\"PHP\"]}, \n",
    "  { \"_id\":4,\"name\":\"amine\",\"login\": \"amine77\",\"age\": 18},\n",
    "  { \"_id\":5,\"name\":\"said\",\"login\": \"ss.ki\", \"age\": 23,\"address\":{\"city\": \"sba\"},\"job\" : [\"python\", \"JAVA\",\"PHP\"]}, \n",
    "  \n",
    "]\n",
    "\n",
    "db[\"users\"].insert_many(userlist)\n",
    "\n",
    "db[\"users\"].count_documents({})"
   ]
  },
  {
   "cell_type": "code",
   "execution_count": null,
   "metadata": {},
   "outputs": [],
   "source": [
    "db[\"users\"].find()"
   ]
  },
  {
   "cell_type": "markdown",
   "metadata": {},
   "source": [
    "### Afficher tous les docs"
   ]
  },
  {
   "cell_type": "code",
   "execution_count": null,
   "metadata": {},
   "outputs": [],
   "source": [
    "# Display all records\n",
    "for user in db[\"users\"].find():\n",
    "  print(user,'\\n') "
   ]
  },
  {
   "cell_type": "markdown",
   "metadata": {},
   "source": [
    "### Update"
   ]
  },
  {
   "cell_type": "code",
   "execution_count": null,
   "metadata": {},
   "outputs": [],
   "source": [
    "db[\"users\"].update_one( \n",
    "                        {'name': 'Ali'},\n",
    "                        { \"$inc\" : { \"age\" : 1 } } \n",
    "                   )\n"
   ]
  },
  {
   "cell_type": "markdown",
   "metadata": {},
   "source": [
    "### Update multiple"
   ]
  },
  {
   "cell_type": "code",
   "execution_count": null,
   "metadata": {},
   "outputs": [],
   "source": [
    "db[\"users\"].update_many( \n",
    "                        {'age': {'$lte':18}},\n",
    "                        { '$set' : { 'job' : [] } } \n",
    "                   )"
   ]
  },
  {
   "cell_type": "markdown",
   "metadata": {},
   "source": [
    "### .find( filtre , projection )"
   ]
  },
  {
   "cell_type": "code",
   "execution_count": null,
   "metadata": {},
   "outputs": [],
   "source": [
    "for user in db[\"users\"].find({}, {\"_id\": 0,\"name\": 1,\"age\": 1}):\n",
    "  print(user,'\\n')\n"
   ]
  },
  {
   "cell_type": "markdown",
   "metadata": {},
   "source": [
    "### Recherche exacte"
   ]
  },
  {
   "cell_type": "code",
   "execution_count": null,
   "metadata": {},
   "outputs": [],
   "source": [
    "for user in db[\"users\"].find( {'login' : \"ali89\"} , {'login':1,'name' : 1, 'age' : 1}):\n",
    "  print(user,'\\n')"
   ]
  },
  {
   "cell_type": "code",
   "execution_count": null,
   "metadata": {},
   "outputs": [],
   "source": [
    "for user in db[\"users\"].find( {'login' : {'$regex': 'Ali89', '$options':'i'}} , {'login':1,'name' : 1, 'age' : 1}):\n",
    "  print(user,'\\n')"
   ]
  },
  {
   "cell_type": "markdown",
   "metadata": {},
   "source": [
    "### Filtrage dans une imbrication "
   ]
  },
  {
   "cell_type": "code",
   "execution_count": null,
   "metadata": {},
   "outputs": [],
   "source": [
    "for user in db[\"users\"].find( { 'address.city' : 'sba'}):\n",
    "  print(user,'\\n')"
   ]
  },
  {
   "cell_type": "markdown",
   "metadata": {},
   "source": [
    "### Filtrage avec opération \n",
    "* \\\\$gt, \\\\$gte, \\\\$lt, \\\\$lte, \\\\$ne, \\\\$in, \\\\$nin, \\\\$or, \\\\$and, \\\\$regex, \\\\$exists, \\\\$type, \\\\$size, …"
   ]
  },
  {
   "cell_type": "code",
   "execution_count": null,
   "metadata": {},
   "outputs": [],
   "source": [
    "for user in db[\"users\"].find( { 'age' :{ '$gt' : 28 }},  {\"_id\": 0,\"name\": 1,\"age\": 1} ):\n",
    "  print(user,'\\n')"
   ]
  },
  {
   "cell_type": "code",
   "execution_count": null,
   "metadata": {},
   "outputs": [],
   "source": [
    "for user in db[\"users\"].find( { 'age' :{ '$in' : [18,20,30] }},  {\"_id\": 0,\"name\": 1,\"age\": 1} ):\n",
    "  print(user,'\\n')"
   ]
  },
  {
   "cell_type": "code",
   "execution_count": null,
   "metadata": {},
   "outputs": [],
   "source": [
    "for user in db[\"users\"].find( { '$and': [ {'age' : { '$gt' : 20 } }, { 'address.city' : 'sba'} ] } ):\n",
    "     print(user,'\\n')"
   ]
  },
  {
   "cell_type": "code",
   "execution_count": null,
   "metadata": {},
   "outputs": [],
   "source": [
    "for user in db[\"users\"].find( { 'name' : { '$exists': 'false'} } ):\n",
    "    print(user,'\\n')"
   ]
  },
  {
   "cell_type": "code",
   "execution_count": null,
   "metadata": {},
   "outputs": [],
   "source": [
    "for user in db[\"users\"].find( { 'login' :{ '$regex' : '^a.m', '$options':'i'}},  {\"_id\": 0,\"name\": 1,\"login\": 1} ):\n",
    "  print(user,'\\n')"
   ]
  },
  {
   "cell_type": "code",
   "execution_count": null,
   "metadata": {},
   "outputs": [],
   "source": [
    "db[\"users\"].create_index( [('name', \"text\"), ('login', \"text\")] )\n",
    "\n",
    "for user in db[\"users\"].find( {'$text':{ '$search': 'ali ahmed'} } ):\n",
    "       print(user,'\\n')"
   ]
  },
  {
   "cell_type": "markdown",
   "metadata": {},
   "source": [
    "### Filtrage sur un tableau"
   ]
  },
  {
   "cell_type": "code",
   "execution_count": null,
   "metadata": {},
   "outputs": [],
   "source": [
    "for user in db[\"users\"].find( { 'job' : 'BDD'} ): #dans la liste\n",
    "  print(user,'\\n')"
   ]
  },
  {
   "cell_type": "code",
   "execution_count": null,
   "metadata": {},
   "outputs": [],
   "source": [
    "for user in db[\"users\"].find( {'job.1' : 'BDD'} ): #2éme place de la liste\n",
    "  print(user,'\\n')"
   ]
  },
  {
   "cell_type": "code",
   "execution_count": null,
   "metadata": {},
   "outputs": [],
   "source": [
    "for user in db[\"users\"].find( { 'job' : ['web', 'BDD']} ):  #recherche exacte\n",
    "  print(user,'\\n')"
   ]
  },
  {
   "cell_type": "markdown",
   "metadata": {},
   "source": [
    "### SORT,  DISTINCT, COUNT"
   ]
  },
  {
   "cell_type": "code",
   "execution_count": null,
   "metadata": {},
   "outputs": [],
   "source": [
    "for user in db[\"users\"].find().sort(\"name\"):\n",
    "    print(user,'\\n')"
   ]
  },
  {
   "cell_type": "code",
   "execution_count": null,
   "metadata": {},
   "outputs": [],
   "source": [
    "for user in db[\"users\"].distinct( 'age'):\n",
    "    print(user,'\\n')"
   ]
  },
  {
   "cell_type": "code",
   "execution_count": null,
   "metadata": {},
   "outputs": [],
   "source": [
    "print('# docs in Users collection =',db[\"users\"].count_documents({}),'\\n')\n",
    "\n",
    "print('# user whose age is 18=',db[\"users\"].count_documents({ 'age' : 30 }))\n",
    "   "
   ]
  },
  {
   "cell_type": "markdown",
   "metadata": {},
   "source": [
    "### Pipeline: aggregate"
   ]
  },
  {
   "cell_type": "code",
   "execution_count": null,
   "metadata": {},
   "outputs": [],
   "source": [
    "result=db[\"users\"].aggregate([  \n",
    "                              {'$match' : {\"address.city\" : 'sba'}},\n",
    "                              {'$project' : {\"login\" : 1, \"age\" : 1}}, \n",
    "                              {'$sort' : {\"age\" : 1, \"login\" : -1}}\n",
    "                             ]);\n",
    "\n",
    "for user in result:\n",
    "    print(user,'\\n')"
   ]
  },
  {
   "cell_type": "markdown",
   "metadata": {},
   "source": [
    "### Pipeline: \\\\$Unwind"
   ]
  },
  {
   "cell_type": "code",
   "execution_count": null,
   "metadata": {},
   "outputs": [],
   "source": [
    "result=db[\"users\"].aggregate([  \n",
    "                              {'$unwind' : \"$job\"},\n",
    "                             {'$project' : {'_id':0, \"login\" : 1, \"age\" : 1, \"job\":1}},\n",
    "                            ]);\n",
    "\n",
    "for user in result:\n",
    "    print(user,'\\n')"
   ]
  },
  {
   "cell_type": "markdown",
   "metadata": {},
   "source": [
    "### Pipeline: \\\\$GROUP"
   ]
  },
  {
   "cell_type": "code",
   "execution_count": null,
   "metadata": {},
   "outputs": [],
   "source": [
    "result=db[\"users\"].aggregate([  \n",
    "                              {'$group':{\"_id\" : \"$age\", \"res\": {'$sum' : 1}}}\n",
    "\n",
    "                            ]);\n",
    "\n",
    "for user in result:\n",
    "    print(user,'\\n')"
   ]
  },
  {
   "cell_type": "code",
   "execution_count": null,
   "metadata": {},
   "outputs": [],
   "source": [
    "result=db[\"users\"].aggregate([  \n",
    "                              {'$match': {\"address.city\" : \"sba\"}},\n",
    "                              {'$unwind' : \"$job\"},\n",
    "                              {'$group' : {\"_id\" : \"$job\", \"moy\": {'$avg': \"$age\"}} },\n",
    "                              {'$match' : {\"moy\" : {'$gt' : 10}} },\n",
    "                              {'$sort' : { \"moy\" : -1} } \n",
    "\n",
    "                            ]);\n",
    "\n",
    "for user in result:\n",
    "    print(user,'\\n')"
   ]
  },
  {
   "cell_type": "code",
   "execution_count": null,
   "metadata": {},
   "outputs": [],
   "source": [
    "commentslist = [\n",
    "  {\"_id\":1, \"content\":\"sjkjzk zkzkz kzkz\",\"userid\": 1},\n",
    "  {\"_id\":2, \"content\":\"szid zoeoez\",\"userid\": 1},\n",
    "  { \"_id\":3,\"content\":\"uu ueue \",\"userid\": 1}, \n",
    "  { \"_id\":4,\"content\":\"skks kzkz kzkz\",\"userid\": 2},\n",
    "  { \"_id\":5,\"content\":\"dkkd kdkd\",\"userid\": 2},\n",
    "  { \"_id\":6,\"content\":\"js skks ksk \",\"userid\": 2}, \n",
    "   {\"_id\":7, \"content\":\"ksk sids \",\"userid\": 3}, \n",
    "]\n",
    "\n",
    "db[\"comments\"].insert_many(commentslist)\n",
    "\n",
    "for comment in db[\"comments\"].find():\n",
    "    print(comment,'\\n')"
   ]
  },
  {
   "cell_type": "code",
   "execution_count": null,
   "metadata": {},
   "outputs": [],
   "source": [
    "result2=db[\"users\"].aggregate([\n",
    "           {\n",
    "              '$lookup': {\n",
    "              'from': \"comments\",\n",
    "              'localField': \"_id\",\n",
    "              'foreignField': \"userid\",\n",
    "               'as': \"commentdetails\",\n",
    "             }\n",
    "     }\n",
    "])\n",
    "\n",
    "\n",
    "for user in result2:\n",
    "    print(user,'\\n')"
   ]
  },
  {
   "cell_type": "markdown",
   "metadata": {},
   "source": [
    "#### Vider une collection"
   ]
  },
  {
   "cell_type": "code",
   "execution_count": null,
   "metadata": {},
   "outputs": [],
   "source": []
  },
  {
   "cell_type": "code",
   "execution_count": null,
   "metadata": {},
   "outputs": [],
   "source": []
  }
 ],
 "metadata": {
  "kernelspec": {
   "display_name": "Python 3 (ipykernel)",
   "language": "python",
   "name": "python3"
  },
  "language_info": {
   "codemirror_mode": {
    "name": "ipython",
    "version": 3
   },
   "file_extension": ".py",
   "mimetype": "text/x-python",
   "name": "python",
   "nbconvert_exporter": "python",
   "pygments_lexer": "ipython3",
   "version": "3.10.6"
  }
 },
 "nbformat": 4,
 "nbformat_minor": 2
}
