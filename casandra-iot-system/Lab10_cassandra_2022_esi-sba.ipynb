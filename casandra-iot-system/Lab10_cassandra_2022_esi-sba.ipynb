{
 "cells": [
  {
   "cell_type": "markdown",
   "metadata": {},
   "source": [
    "# Exercice: Modélisation orientée requête (Cassandra)\n",
    "\n",
    "<table><tr>\n",
    "    <td><img src=\"image/esi-sba.png\" width=\"100\" height=\"100\"></td>\n",
    "    <td><img src=\"image/cassandra.png\" width=\"100\" height=\"100\"></td>\n",
    "    </tr></table>\n",
    "\n"
   ]
  },
  {
   "cell_type": "markdown",
   "metadata": {},
   "source": [
    "### Dans ce notebook, nous allons travailler sur la modélisation orientée requête sous la BDD No-SQL Cassandra, en particulier nous traitons les points suivants :\n",
    "\n",
    "* Dénormaliser une BDD relationnelle en partant du principe 1 table per query \n",
    "* Définir la partie Primary Key pour chaque requête\n",
    "* Optimiser vos modèles en choisissant la bonne Partition Key & Clustering Column\n",
    "* Valider vos modèles \n",
    "* Tester quelques requêtes particulières\n"
   ]
  },
  {
   "cell_type": "markdown",
   "metadata": {},
   "source": [
    "#### installer cassandra-driver afin de se connecter au cluster cassandra\n",
    "! pip install cassandra-driver\n",
    "#### More documentation can be found here:  https://datastax.github.io/python-driver/"
   ]
  },
  {
   "cell_type": "markdown",
   "metadata": {},
   "source": [
    "#### Import Apache Cassandra python package"
   ]
  },
  {
   "cell_type": "code",
   "execution_count": 46,
   "metadata": {},
   "outputs": [],
   "source": [
    "import cassandra\n",
    "import random"
   ]
  },
  {
   "cell_type": "markdown",
   "metadata": {},
   "source": [
    "### créer une connection au cluster cassandra"
   ]
  },
  {
   "cell_type": "code",
   "execution_count": 6,
   "metadata": {},
   "outputs": [],
   "source": [
    "from cassandra.cluster import Cluster\n",
    "\n",
    "try: \n",
    "    cluster = Cluster(['127.0.0.1']) # si cassandra est installé localement avec le port par défaut 9042\n",
    "    session = cluster.connect()\n",
    "except Exception as e:\n",
    "    print(e)"
   ]
  },
  {
   "cell_type": "markdown",
   "metadata": {},
   "source": [
    "### créer maintenant un keyspace nommé \"iot_esi\""
   ]
  },
  {
   "cell_type": "code",
   "execution_count": 7,
   "metadata": {},
   "outputs": [],
   "source": [
    "try:\n",
    "    \n",
    "    session.execute(\"\"\"\n",
    "    CREATE KEYSPACE IF NOT EXISTS iot \n",
    "    WITH REPLICATION = {'class':'SimpleStrategy','replication_factor':1}\n",
    "    \"\"\");\n",
    " \n",
    "\n",
    "except Exception as e:\n",
    "    print(e)"
   ]
  },
  {
   "cell_type": "markdown",
   "metadata": {},
   "source": [
    "### connecter à votre Keyspace  iot_esi \n"
   ]
  },
  {
   "cell_type": "code",
   "execution_count": 8,
   "metadata": {},
   "outputs": [],
   "source": [
    "try:\n",
    "    \n",
    "    session.set_keyspace(\"iot\")\n",
    "   \n",
    "    \n",
    "except Exception as e:\n",
    "    print(e)"
   ]
  },
  {
   "cell_type": "markdown",
   "metadata": {},
   "source": [
    "### Supposons qu'on a un système IoT qui stocke les données capturées par les différents Sensors en utilisant un modèle RELATIONNEL, tel que est décrit dans le schéma ER ci-dessous:\n",
    "\n",
    "<table><tr>\n",
    "    <td><img src=\"image/ex1_IoT_ER_model.png\" width=\"500\" height=\"500\"></td>\n",
    "      </tr></table>"
   ]
  },
  {
   "cell_type": "markdown",
   "metadata": {},
   "source": [
    "### imaginons  que nous souhaitons analyser ces données à  travers 3 requêtes analytiques:\n",
    "* `Query1= retourner les informations(name, nbSensors) de tous les networks d'une région donnée`\n",
    "* `Query2= retourner les informations (name,type,localisation, characteristics) de tous les Sensors d'un Network donné.`\n",
    "* `Query3= retourner le AVG_measurements par sensor,  par année et par mois.  Ordonner le résultat par  année(desc) et par mois(asc)`"
   ]
  },
  {
   "cell_type": "markdown",
   "metadata": {},
   "source": [
    "#### Créer les trois tables qui correspondent aux requêtes précédentes, en indiquant pour chacune:\n",
    "* Primary Key\n",
    "* Partition Key\n",
    "* Clustering Column"
   ]
  },
  {
   "cell_type": "code",
   "execution_count": 21,
   "metadata": {},
   "outputs": [],
   "source": [
    "try:\n",
    "    \n",
    "    # retourner les informations(name, nbSensors) de tous les networks d'une région donnée\n",
    "    \n",
    "    session.execute(\"drop table if exists network_by_region\")\n",
    "   \n",
    "    session.execute(\"\"\"\n",
    "        CREATE TABLE Network_By_Region (\n",
    "            region text,\n",
    "            idNetwork int,\n",
    "            name text,\n",
    "            nbSensors int,\n",
    "            PRIMARY KEY (region, idNetwork)\n",
    "        );\n",
    "\n",
    "        \"\"\")\n",
    "     #the query1 will be in cql:\n",
    "    # SELECT name , nbSensors FROM Network_By_Region WHERE region = 'West'; \n",
    "    \n",
    "\n",
    "   \n",
    "    \n",
    "except Exception as e:\n",
    "        print(e)"
   ]
  },
  {
   "cell_type": "code",
   "execution_count": 36,
   "metadata": {},
   "outputs": [],
   "source": [
    "try:\n",
    "    \n",
    "    # retourner les informations (name,type,localisation, characteristics) de tous les Sensors d'un Network donné.`\n",
    "    session.execute(\"DROP TABLE IF EXISTS Sensor_By_Network\")\n",
    "    session.execute(\"\"\"\n",
    "        CREATE TABLE Sensor_By_Network (\n",
    "            idNetwork int,\n",
    "            \n",
    "            idSensor int,\n",
    "            name text,\n",
    "            type text,\n",
    "            latitude double,\n",
    "            longitude double,\n",
    "            characteristics map<text,text>,\n",
    "            PRIMARY KEY (idNetwork, idSensor)\n",
    "        );\n",
    "    \"\"\")\n",
    "    \n",
    "    # query2 in cql is:\n",
    "    #SELECT name, type, latitude, longitude, characteristics FROM Sensor_By_Network WHERE idNetwork = '<idNetwork>';\n",
    "    \n",
    "   \n",
    "    \n",
    "    \n",
    "except Exception as e:\n",
    "        print(e)"
   ]
  },
  {
   "cell_type": "code",
   "execution_count": 44,
   "metadata": {},
   "outputs": [],
   "source": [
    "try:\n",
    "    \n",
    "    \n",
    "    ### retourner le AVG_measurements par sensor,  par année et par mois.  Ordonner le résultat par  année(desc) et par mois(asc)\n",
    "     \n",
    "    session.execute(\"drop table if exists RecordedData_By_Year_Month\")\n",
    "    session.execute(\"\"\"\n",
    "        CREATE TABLE RecordedData_By_Year_Month (\n",
    "            idSensor int,\n",
    "            year int,\n",
    "            month int,\n",
    "            value double,\n",
    "            PRIMARY KEY (idSensor, year, month)\n",
    "        ) \n",
    "        WITH CLUSTERING ORDER BY (year DESC, month ASC);\n",
    "    \"\"\")\n",
    "    # note that we stored the value and not the calculated average cuz if we do so \n",
    "    # we will be obliged to calculate the averages every time a new record of data is added which is coasty\n",
    "    # instead we can calculate the average only when we need it (for analytical purposes which happens less often)\n",
    "    # cql query is:\n",
    "    #SELECT idSensor, year, month, AVG(value) FROM RecordedData_By_Year_Month GROUP BY idSensor, year, month ORDER BY year DESC, month ASC;\n",
    "except Exception as e:\n",
    "        print(e)"
   ]
  },
  {
   "cell_type": "markdown",
   "metadata": {},
   "source": [
    "### Une fois vous créez les différentes tables, essayez de les peupler en se basant sur le contenu de la BDD relationnelle.\n",
    "\n",
    "<table><tr>\n",
    "    <td><img src=\"image/data_tables.png\" width=\"600\" height=\"500\"></td></tr>\n",
    "  \n",
    "</table>"
   ]
  },
  {
   "cell_type": "markdown",
   "metadata": {},
   "source": [
    "### Insertion des données dans Table1"
   ]
  },
  {
   "cell_type": "code",
   "execution_count": 38,
   "metadata": {},
   "outputs": [],
   "source": [
    "query = \"INSERT INTO Network_By_Region (region, idNetwork, name, nbSensors) \"\n",
    "query = query + \" VALUES (%s,%s,%s,%s)\"\n",
    "\n",
    "try:\n",
    "    session.execute(query, ('ouest',1,'esi-net',10))\n",
    "    session.execute(query, ('ouest',2,'udl-net',5))\n",
    "    session.execute(query, ('centre',1,'alger-net',15))\n",
    "    \n",
    "except Exception as e:\n",
    "        print(e)"
   ]
  },
  {
   "cell_type": "markdown",
   "metadata": {},
   "source": [
    "### Insertion des données dans Table2"
   ]
  },
  {
   "cell_type": "code",
   "execution_count": 43,
   "metadata": {},
   "outputs": [],
   "source": [
    "query = \"INSERT INTO Sensor_By_Network (idNetwork, idSensor, name, type, latitude, longitude, characteristics) \"\n",
    "query = query + \" VALUES (%s,%s,%s,%s,%s,%s,%s)\"\n",
    "\n",
    "try:\n",
    "    session.execute(query, (1,1,'temp-11','temp',31,-96,{\"accuracy\":\"medium\",\"sensitivity\":\"high\"}))\n",
    "    session.execute(query, (1,2,'temp-12','temp',31,-97,{\"accuracy\":\"high\",\"sensitivity\":\"high\"}))\n",
    "    session.execute(query, (2,3,'temp-21','temp',32,-97,{\"accuracy\":\"low\",\"sensitivity\":\"medium\"}))\n",
    "    session.execute(query, (3,4,'temp-31','temp',44,-111,{\"accuracy\":\"medium\",\"sensitivity\":\"medium\"}))\n",
    "    session.execute(query, (3,5,'temp-32','temp',45,-111,{\"accuracy\":\"high\",\"sensitivity\":\"low\"}))\n",
    "    \n",
    "except Exception as e :\n",
    "        print(e) \n"
   ]
  },
  {
   "cell_type": "markdown",
   "metadata": {},
   "source": [
    "### Insertion des données dans Table3"
   ]
  },
  {
   "cell_type": "code",
   "execution_count": 128,
   "metadata": {},
   "outputs": [],
   "source": [
    "query = \"INSERT INTO RecordedData_By_Year_Month_query4 (idSensor, year, month, value) \"\n",
    "query = query + \" VALUES (%s,%s,%s,%s)\"\n",
    "\n",
    "try:\n",
    "    for i in range(1, 50):\n",
    "        idSensor = random.randint(1, 10)\n",
    "        year = random.randint(2020, 2023)\n",
    "        month = random.randint(1, 12)\n",
    "        value = random.uniform(0, 100)\n",
    "        session.execute(query, (idSensor, year, month, value))\n",
    "\n",
    "except Exception as e:\n",
    "        print(e)"
   ]
  },
  {
   "cell_type": "markdown",
   "metadata": {},
   "source": [
    "### Valider votre modèle en exécutant les requêtes suivantes\n",
    "\n",
    "* Retourner le nombre de sensors dans la région ouest\"\n",
    "\n",
    "* Retourner les sensors qui sont placés dans le network \"esi-net\"\n",
    "\n",
    "* Retourner la température maximale enregistrée par le sensor \"temp-11\" pendant l'année 2021"
   ]
  },
  {
   "cell_type": "code",
   "execution_count": 107,
   "metadata": {
    "scrolled": true
   },
   "outputs": [
    {
     "name": "stdout",
     "output_type": "stream",
     "text": [
      "Row(system_sum_nbsensors=15)\n"
     ]
    }
   ],
   "source": [
    "# query1: Retourner le nombre de sensors dans la région ouest\n",
    "query = \"SELECT SUM(NbSensors)  from Network_By_Region where region = 'ouest'\"\n",
    "\n",
    "try:\n",
    "    rows = session.execute(query)\n",
    "    for row in rows:\n",
    "          print (row)\n",
    "except Exception as e:\n",
    "        print(e)           "
   ]
  },
  {
   "cell_type": "code",
   "execution_count": 106,
   "metadata": {
    "scrolled": true
   },
   "outputs": [
    {
     "name": "stdout",
     "output_type": "stream",
     "text": [
      "Row(idnetwork=1, idsensor=1, characteristics=OrderedMapSerializedKey([('accuracy', 'medium'), ('sensitivity', 'high')]), latitude=31.0, longitude=-96.0, name='temp-11', type='temp')\n",
      "Row(idnetwork=1, idsensor=2, characteristics=OrderedMapSerializedKey([('accuracy', 'high'), ('sensitivity', 'high')]), latitude=31.0, longitude=-97.0, name='temp-12', type='temp')\n"
     ]
    }
   ],
   "source": [
    "# query2: Retourner les sensors qui sont placés dans le network \"esi-net\"\n",
    "query = \"select * from Sensor_By_Network where idNetwork = 1\"\n",
    "\n",
    "try:\n",
    "    rows = session.execute(query)\n",
    "    for row in rows:\n",
    "          print (row)\n",
    "except Exception as e:\n",
    "        print(e)    "
   ]
  },
  {
   "cell_type": "code",
   "execution_count": 105,
   "metadata": {
    "scrolled": true
   },
   "outputs": [
    {
     "name": "stdout",
     "output_type": "stream",
     "text": [
      "Row(system_max_value=84.77362110188696)\n"
     ]
    }
   ],
   "source": [
    "# query3: Retourner la température maximale enregistrée par le sensor \"temp-11\" pendant l'année 2021\n",
    "# (for test) query = \"select *  from RecordedData_By_Year_Month where idSensor = 1 order by  year desc, month\"\n",
    "query = \"select max(value)  from RecordedData_By_Year_Month where idSensor = 1 and year = 2021\"\n",
    "try:\n",
    "    rows = session.execute(query)\n",
    "    for row in rows:\n",
    "          print (row)\n",
    "except Exception as e:\n",
    "        print(e)         "
   ]
  },
  {
   "cell_type": "markdown",
   "metadata": {},
   "source": [
    "### Essayons d'autres requêtes \n",
    "\n",
    "* `Retourner la température maximale enregistrée par le sensor \"temp-11\"  pendant le  mois d'octobre de toutes les années` "
   ]
  },
  {
   "cell_type": "code",
   "execution_count": 100,
   "metadata": {},
   "outputs": [
    {
     "name": "stdout",
     "output_type": "stream",
     "text": [
      "Error from server: code=2200 [Invalid query] message=\"PRIMARY KEY column \"month\" cannot be restricted as preceding column \"year\" is not restricted\"\n"
     ]
    }
   ],
   "source": [
    "# query4\n",
    "query = \"select max(value)  from RecordedData_By_Year_Month where idSensor = 1 and month = 10 \"\n",
    "\n",
    "\n",
    "\n",
    "try:\n",
    "    rows = session.execute(query)\n",
    "    for row in rows:\n",
    "          print (row)\n",
    "except Exception as e:\n",
    "        print(e)      "
   ]
  },
  {
   "cell_type": "markdown",
   "metadata": {},
   "source": [
    "### Proposer une solution pour optimiser cette requête"
   ]
  },
  {
   "cell_type": "code",
   "execution_count": 121,
   "metadata": {},
   "outputs": [],
   "source": [
    "try:\n",
    "    \n",
    "    \n",
    "    ### retourner le AVG_measurements par sensor,  par année et par mois.  Ordonner le résultat par  année(desc) et par mois(asc)\n",
    "     \n",
    "    session.execute(\"drop table if exists RecordedData_By_Year_Month_query4\")\n",
    "    session.execute(\"\"\"\n",
    "        CREATE TABLE RecordedData_By_Year_Month_query4 (\n",
    "            idSensor int,\n",
    "            year int,\n",
    "            month int,\n",
    "            value double,\n",
    "            PRIMARY KEY (idSensor, month )\n",
    "        ) \n",
    "        WITH CLUSTERING ORDER BY (  month ASC);\n",
    "    \"\"\")\n",
    "    # note that we stored the value and not the calculated average cuz if we do so \n",
    "    # we will be obliged to calculate the averages every time a new record of data is added which is coasty\n",
    "    # instead we can calculate the average only when we need it (for analytical purposes which happens less often)\n",
    "    # cql query is:\n",
    "    #SELECT idSensor, year, month, AVG(value) FROM RecordedData_By_Year_Month GROUP BY idSensor, year, month ORDER BY year DESC, month ASC;\n",
    "except Exception as e:\n",
    "        print(e)"
   ]
  },
  {
   "cell_type": "code",
   "execution_count": 122,
   "metadata": {},
   "outputs": [
    {
     "name": "stdout",
     "output_type": "stream",
     "text": [
      "Row(system_max_value=None)\n"
     ]
    }
   ],
   "source": [
    "# query4\n",
    "query = \"select max(value)  from RecordedData_By_Year_Month_query4 where idSensor = 1 and month = 10 \"\n",
    "\n",
    "\n",
    "\n",
    "try:\n",
    "    rows = session.execute(query)\n",
    "    for row in rows:\n",
    "          print (row)\n",
    "except Exception as e:\n",
    "        print(e)  "
   ]
  },
  {
   "cell_type": "markdown",
   "metadata": {},
   "source": [
    "###  drop  tables. "
   ]
  },
  {
   "cell_type": "code",
   "execution_count": 40,
   "metadata": {},
   "outputs": [],
   "source": [
    "query = \"drop table IF EXISTS ...\"\n",
    "rows = session.execute(query)\n",
    "\n",
    "query = \"drop table IF EXISTS ... \"\n",
    "rows = session.execute(query)\n",
    "\n",
    "query = \"drop table IF EXISTS ....  \"\n",
    "rows = session.execute(query)\n",
    "\n",
    "\n",
    "\n",
    "query = \"drop table IF EXISTS ... \"\n",
    "rows = session.execute(query)"
   ]
  },
  {
   "cell_type": "markdown",
   "metadata": {},
   "source": [
    "### close the session and cluster connection"
   ]
  },
  {
   "cell_type": "code",
   "execution_count": null,
   "metadata": {},
   "outputs": [],
   "source": [
    "session.shutdown()\n",
    "cluster.shutdown()"
   ]
  },
  {
   "cell_type": "code",
   "execution_count": null,
   "metadata": {},
   "outputs": [],
   "source": []
  }
 ],
 "metadata": {
  "kernelspec": {
   "display_name": "Python 3 (ipykernel)",
   "language": "python",
   "name": "python3"
  },
  "language_info": {
   "codemirror_mode": {
    "name": "ipython",
    "version": 3
   },
   "file_extension": ".py",
   "mimetype": "text/x-python",
   "name": "python",
   "nbconvert_exporter": "python",
   "pygments_lexer": "ipython3",
   "version": "3.10.6"
  }
 },
 "nbformat": 4,
 "nbformat_minor": 2
}
