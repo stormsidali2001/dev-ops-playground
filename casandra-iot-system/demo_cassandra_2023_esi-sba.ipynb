{
 "cells": [
  {
   "cell_type": "markdown",
   "metadata": {},
   "source": [
    "# Demo 1\n",
    "\n",
    "<table><tr>\n",
    "    <td><img src=\"image/esi-sba.png\" width=\"100\" height=\"100\"></td>\n",
    "    <td><img src=\"image/cassandra.png\" width=\"100\" height=\"100\"></td>\n",
    "    </tr></table>\n",
    "\n"
   ]
  },
  {
   "cell_type": "markdown",
   "metadata": {},
   "source": [
    "## Dans ce demo, nous travaillons sur les notions bases de  Apache Cassandra:\n",
    "### creation d'un keyspace, table, etc\n",
    "### insertion et requêtage des données\n",
    "### Query Model : Two Queries ==> two tables\n",
    "### Primary key , Partition Key & Clustering Column\n",
    "### Where Clause\n",
    "### ALLOW FILTERING"
   ]
  },
  {
   "cell_type": "markdown",
   "metadata": {},
   "source": [
    "#### installer cassandra-driver afin de se connecter au cluster cassandra\n",
    "! pip install cassandra-driver\n",
    "#### More documentation can be found here:  https://datastax.github.io/python-driver/"
   ]
  },
  {
   "cell_type": "markdown",
   "metadata": {},
   "source": [
    "#### Import Apache Cassandra python package"
   ]
  },
  {
   "cell_type": "code",
   "execution_count": 1,
   "metadata": {},
   "outputs": [],
   "source": [
    "import cassandra"
   ]
  },
  {
   "cell_type": "markdown",
   "metadata": {},
   "source": [
    "### créer une connection au cluster cassandra"
   ]
  },
  {
   "cell_type": "code",
   "execution_count": 13,
   "metadata": {},
   "outputs": [],
   "source": [
    "from cassandra.cluster import Cluster\n",
    "\n",
    "try: \n",
    "    cluster = Cluster(['127.0.0.1']) # si cassandra est installé localement avec le port par défaut 9042\n",
    "    session = cluster.connect()\n",
    "except Exception as e:\n",
    "    print(e)"
   ]
  },
  {
   "cell_type": "markdown",
   "metadata": {},
   "source": [
    "### créer maintenant un keyspace nommé \"tp1_esi\""
   ]
  },
  {
   "cell_type": "code",
   "execution_count": 14,
   "metadata": {},
   "outputs": [],
   "source": [
    "try:\n",
    "    session.execute(\"\"\"\n",
    "    CREATE KEYSPACE IF NOT EXISTS tp2_isi_esi\n",
    "    WITH REPLICATION = \n",
    "    { 'class' : 'SimpleStrategy', 'replication_factor' : 1 }\"\"\"\n",
    ")\n",
    "\n",
    "except Exception as e:\n",
    "    print(e)"
   ]
  },
  {
   "cell_type": "markdown",
   "metadata": {},
   "source": [
    "### connecter à votre Keyspace tp1_esi \n",
    "Equivalent à \"use tp1_esi\" "
   ]
  },
  {
   "cell_type": "code",
   "execution_count": 15,
   "metadata": {},
   "outputs": [],
   "source": [
    "try:\n",
    "    session.set_keyspace('tp2_isi_esi')\n",
    "except Exception as e:\n",
    "    print(e)"
   ]
  },
  {
   "cell_type": "markdown",
   "metadata": {},
   "source": [
    "### Nous voulons analyser la clientèle de différents magasins en utilisant ces deux requêtes\n",
    "#### 1. retourner le nbClient par ville \n",
    "`select nbclient from magasin_client WHERE ville=\"sba\"`\n",
    "#### 2. retourner le nbClient par année\n",
    "`select nbclient from magasin_client WHERE annee=2021`\n"
   ]
  },
  {
   "cell_type": "markdown",
   "metadata": {},
   "source": [
    "## Puisque on a deux différentes requêtes, on a besoin de deux différentes tables qui partitionnent les données différemment\n",
    "\n",
    "* La table magasin_client va être partitionnée par ville \n",
    "* La table magasin_client va être partitionnée par année\n",
    "\n",
    "\n",
    "`Table Name: magasin_byVille\n",
    "column 1: ville\n",
    "column 2: nbclient\n",
    "column 3: annee\n",
    "PRIMARY KEY(ville)`\n",
    "\n",
    "\n",
    "` Table Name: magasin_byAnnee \n",
    "column 1: ville\n",
    "column 2: nbclient\n",
    "column 3: annee\n",
    "PRIMARY KEY (annee)`\n"
   ]
  },
  {
   "cell_type": "code",
   "execution_count": 5,
   "metadata": {},
   "outputs": [
    {
     "data": {
      "text/plain": [
       "<cassandra.cluster.ResultSet at 0x7f80a1178a60>"
      ]
     },
     "execution_count": 5,
     "metadata": {},
     "output_type": "execute_result"
    }
   ],
   "source": [
    "query = \"CREATE TABLE IF NOT EXISTS magasin_byVille \"\n",
    "query = query + \"(ville text, nbclient int, annee int, PRIMARY KEY (ville))\"\n",
    "session.execute(query)\n",
    "    \n",
    "query = \"CREATE TABLE IF NOT EXISTS magasin_byAnnee  \"\n",
    "query = query + \"(ville text, nbclient int, annee int, PRIMARY KEY (annee))\"\n",
    "session.execute(query)"
   ]
  },
  {
   "cell_type": "markdown",
   "metadata": {},
   "source": [
    "### Insertion des données dans la table \"magasin_byVille \""
   ]
  },
  {
   "cell_type": "code",
   "execution_count": 6,
   "metadata": {},
   "outputs": [
    {
     "data": {
      "text/plain": [
       "<cassandra.cluster.ResultSet at 0x7f80a1179f60>"
      ]
     },
     "execution_count": 6,
     "metadata": {},
     "output_type": "execute_result"
    }
   ],
   "source": [
    "query = \"INSERT INTO magasin_byVille (ville, nbclient, annee)\"\n",
    "query = query + \" VALUES (%s, %s, %s)\"\n",
    "\n",
    "session.execute(query, (\"sba\", 900, 2019))\n",
    "session.execute(query, (\"sba\", 1200, 2020))\n",
    "session.execute(query, (\"sba\", 1300, 2017))\n",
    "session.execute(query, (\"sba\", 100, 2018))\n",
    "session.execute(query, (\"oran\", 2900, 2020))\n",
    "session.execute(query, (\"oran\", 3600, 2017))\n",
    "session.execute(query, (\"oran\", 4000, 2019))\n",
    "session.execute(query, (\"oran\", 200, 2018))"
   ]
  },
  {
   "cell_type": "markdown",
   "metadata": {},
   "source": [
    "### Insertion des données dans la table \"magasin_byAnnee \""
   ]
  },
  {
   "cell_type": "code",
   "execution_count": 7,
   "metadata": {},
   "outputs": [
    {
     "data": {
      "text/plain": [
       "<cassandra.cluster.ResultSet at 0x7f809fe74d30>"
      ]
     },
     "execution_count": 7,
     "metadata": {},
     "output_type": "execute_result"
    }
   ],
   "source": [
    "query1 = \"INSERT INTO magasin_byAnnee (ville, nbclient, annee)\"\n",
    "query1 = query1 + \" VALUES (%s, %s, %s)\"\n",
    "\n",
    "session.execute(query1, (\"sba\", 900, 2019))\n",
    "session.execute(query1, (\"sba\", 1200, 2020))\n",
    "session.execute(query1, (\"sba\", 1300, 2017))\n",
    "session.execute(query1, (\"sba\", 100, 2018))\n",
    "session.execute(query1, (\"oran\", 2900, 2020))\n",
    "session.execute(query1, (\"oran\", 3600, 2017))\n",
    "session.execute(query1, (\"oran\", 4000, 2019))\n",
    "session.execute(query1, (\"oran\", 200, 2018))"
   ]
  },
  {
   "cell_type": "markdown",
   "metadata": {},
   "source": [
    "### Valider votre modèle en exécutant les requêtes suivantes\n",
    "#### est ce que toutes les données sont retournées??\n",
    "\n",
    "`select * from magasin_byVille WHERE ville=\"sba\"`\n",
    "\n",
    "`select * from magasin_byAnnee WHERE annee=2020`"
   ]
  },
  {
   "cell_type": "code",
   "execution_count": 8,
   "metadata": {
    "scrolled": true
   },
   "outputs": [
    {
     "name": "stdout",
     "output_type": "stream",
     "text": [
      "from magasin_byVille:- sba 100 2018\n"
     ]
    }
   ],
   "source": [
    "# data By Ville\n",
    "query = \"select * from magasin_byVille WHERE ville='sba'\"\n",
    "rows = session.execute(query)\n",
    "for row in rows:\n",
    "    print (\"from magasin_byVille:-\", row.ville,row.nbclient,row.annee)\n",
    "\n"
   ]
  },
  {
   "cell_type": "code",
   "execution_count": 9,
   "metadata": {},
   "outputs": [
    {
     "name": "stdout",
     "output_type": "stream",
     "text": [
      "from magasin_byAnnee:- oran 2900 2020\n"
     ]
    }
   ],
   "source": [
    "# data By Annee    \n",
    "query = \"select * from magasin_byAnnee WHERE annee=2020\"\n",
    "rows = session.execute(query)\n",
    "for row in rows:\n",
    "    print (\"from magasin_byAnnee:-\",row.ville,row.nbclient,row.annee)"
   ]
  },
  {
   "cell_type": "markdown",
   "metadata": {},
   "source": [
    "### Cela n'a pas fonctionné comme prévu ! Pourquoi donc? Parce que nous n'avons pas créé de clé primaire unique.\n",
    "### Créer une nouvelle table  magasin_byVille_2 avec une clé composite (ville, annee), tel que: \n",
    "* ville as a partition key\n",
    "* annee as a clustering column\n",
    "\n",
    "`Table Name: magasin_byVille_2\n",
    "column 1: ville\n",
    "column 2: nbclient\n",
    "column 3: annee\n",
    "PRIMARY KEY(ville,annee)`"
   ]
  },
  {
   "cell_type": "code",
   "execution_count": 10,
   "metadata": {},
   "outputs": [
    {
     "data": {
      "text/plain": [
       "<cassandra.cluster.ResultSet at 0x7f80a1179b70>"
      ]
     },
     "execution_count": 10,
     "metadata": {},
     "output_type": "execute_result"
    }
   ],
   "source": [
    "query = \"CREATE TABLE IF NOT EXISTS magasin_byVille_2 \"\n",
    "query = query + \"(ville text, nbclient int, annee int, PRIMARY KEY (ville,annee))\"\n",
    "session.execute(query)\n",
    "\n",
    "query = \"INSERT INTO magasin_byVille_2 (ville, nbclient, annee)\"\n",
    "query = query + \" VALUES (%s, %s, %s)\"\n",
    "\n",
    "session.execute(query, (\"sba\", 900, 2019))\n",
    "session.execute(query, (\"sba\", 1200, 2020))\n",
    "session.execute(query, (\"sba\", 1300, 2017))\n",
    "session.execute(query, (\"sba\", 100, 2018))\n",
    "session.execute(query, (\"oran\", 2900, 2020))\n",
    "session.execute(query, (\"oran\", 3600, 2017))\n",
    "session.execute(query, (\"oran\", 4000, 2019))\n",
    "session.execute(query, (\"oran\", 200, 2018))"
   ]
  },
  {
   "cell_type": "markdown",
   "metadata": {},
   "source": [
    "### Créer une nouvelle table  magasin_byAnnee_2 avec une clé composite (annee, ville), tel que: \n",
    "* annee as a partition key\n",
    "* ville as a clustering column\n",
    "\n",
    "\n",
    "` Table Name: magasin_byAnnee_2\n",
    "column 1: ville\n",
    "column 2: nbclient\n",
    "column 3: annee\n",
    "PRIMARY KEY (annee,ville)`"
   ]
  },
  {
   "cell_type": "code",
   "execution_count": 24,
   "metadata": {},
   "outputs": [
    {
     "data": {
      "text/plain": [
       "<cassandra.cluster.ResultSet at 0x7f6d6516dcf0>"
      ]
     },
     "execution_count": 24,
     "metadata": {},
     "output_type": "execute_result"
    }
   ],
   "source": [
    "query = \"CREATE TABLE IF NOT EXISTS magasin_byAnnee_2 \"\n",
    "query = query + \"(ville text, nbclient int, annee int, PRIMARY KEY (annee,ville))\"\n",
    "session.execute(query)\n",
    "\n",
    "query = \"INSERT INTO magasin_byAnnee_2 (ville, nbclient, annee)\"\n",
    "query = query + \" VALUES (%s, %s, %s)\"\n",
    "\n",
    "session.execute(query, (\"sba\", 900, 2019))\n",
    "session.execute(query, (\"sba\", 1200, 2020))\n",
    "session.execute(query, (\"sba\", 1300, 2017))\n",
    "session.execute(query, (\"sba\", 100, 2018))\n",
    "session.execute(query, (\"oran\", 2900, 2020))\n",
    "session.execute(query, (\"oran\", 3600, 2017))\n",
    "session.execute(query, (\"oran\", 4000, 2019))\n",
    "session.execute(query, (\"oran\", 200, 2018))"
   ]
  },
  {
   "cell_type": "markdown",
   "metadata": {},
   "source": [
    "### Valider le nouveau modèle\n",
    "\n",
    "`select * from magasin_byVille_2 WHERE ville=\"sba\"`\n",
    "\n",
    "`select * from magasin_byAnnee_2 WHERE annee=2020`"
   ]
  },
  {
   "cell_type": "code",
   "execution_count": 19,
   "metadata": {},
   "outputs": [
    {
     "name": "stdout",
     "output_type": "stream",
     "text": [
      "from magasin_byVille:- sba 2017 1300\n",
      "from magasin_byVille:- sba 2018 100\n",
      "from magasin_byVille:- sba 2019 900\n",
      "from magasin_byVille:- sba 2020 1200\n"
     ]
    }
   ],
   "source": [
    "# data By Ville\n",
    "query = \"select * from magasin_byVille_2 WHERE ville='sba'\"\n",
    "rows = session.execute(query)\n",
    "for row in rows:\n",
    "    print (\"from magasin_byVille:-\", row.ville,row.annee,row.nbclient)"
   ]
  },
  {
   "cell_type": "code",
   "execution_count": 25,
   "metadata": {},
   "outputs": [
    {
     "name": "stdout",
     "output_type": "stream",
     "text": [
      "from magasin_byAnnee:- 2020 oran 2900\n",
      "from magasin_byAnnee:- 2020 sba 1200\n"
     ]
    }
   ],
   "source": [
    "# data By Annee    \n",
    "query = \"select * from magasin_byAnnee_2 WHERE annee=2020\"\n",
    "rows = session.execute(query)\n",
    "for row in rows:\n",
    "    print (\"from magasin_byAnnee:-\",row.annee, row.ville,row.nbclient)"
   ]
  },
  {
   "cell_type": "markdown",
   "metadata": {},
   "source": [
    "### Essayons d'autres requêtes \n",
    "\n",
    "*Query1=select * from magasin_byVille_2 WHERE ville=\"sba\" and annee>2018\n",
    "\n",
    "*Query2=select * from magasin_byVille_2 WHERE annee>2018\n",
    "\n",
    "*Query3=select * from magasin_byVille_2 WHERE ville='oran' and nbClient>1000\n",
    "\n",
    "*Query4=select * from magasin_byAnnee_2 WHERE annee>2018"
   ]
  },
  {
   "cell_type": "markdown",
   "metadata": {},
   "source": [
    "#### Query1==>select * from magasin_byVille_2 WHERE ville=\"sba\" and annee>2018\n"
   ]
  },
  {
   "cell_type": "code",
   "execution_count": 26,
   "metadata": {},
   "outputs": [
    {
     "name": "stdout",
     "output_type": "stream",
     "text": [
      "sba 2019 900\n",
      "sba 2020 1200\n"
     ]
    }
   ],
   "source": [
    "#query1\n",
    "query = \"select * from magasin_byVille_2 WHERE ville='sba' and annee>2018\"\n",
    "\n",
    "try:\n",
    "      rows = session.execute(query)\n",
    "except Exception as e:\n",
    "      print(e)\n",
    "    \n",
    "for row in rows:\n",
    "    print (row.ville, row.annee,row.nbclient)\n"
   ]
  },
  {
   "cell_type": "markdown",
   "metadata": {},
   "source": [
    "#### Query2==>\"select * from magasin_byVille_2 WHERE annee>2018\""
   ]
  },
  {
   "cell_type": "code",
   "execution_count": 27,
   "metadata": {},
   "outputs": [
    {
     "name": "stdout",
     "output_type": "stream",
     "text": [
      "Error from server: code=2200 [Invalid query] message=\"Cannot execute this query as it might involve data filtering and thus may have unpredictable performance. If you want to execute this query despite the performance unpredictability, use ALLOW FILTERING\"\n"
     ]
    }
   ],
   "source": [
    "#query2    \n",
    "query = \"select * from magasin_byVille_2 WHERE annee>2018\"\n",
    "\n",
    "try:\n",
    "      rows = session.execute(query)\n",
    "except Exception as e:\n",
    "      print(e)\n",
    "    \n",
    "for row in rows:\n",
    "    print (row.ville, row.annee,row.nbclient)"
   ]
  },
  {
   "cell_type": "markdown",
   "metadata": {},
   "source": [
    "#### Query3 ==> \"select * from magasin_byVille_2 WHERE ville='oran' and nbClient>1000\""
   ]
  },
  {
   "cell_type": "code",
   "execution_count": 28,
   "metadata": {},
   "outputs": [
    {
     "name": "stdout",
     "output_type": "stream",
     "text": [
      "Error from server: code=2200 [Invalid query] message=\"Cannot execute this query as it might involve data filtering and thus may have unpredictable performance. If you want to execute this query despite the performance unpredictability, use ALLOW FILTERING\"\n"
     ]
    }
   ],
   "source": [
    "#query3\n",
    "query=\"select * from magasin_byVille_2 WHERE ville='oran' and nbClient>1000\"\n",
    "try:\n",
    "      rows = session.execute(query)\n",
    "except Exception as e:\n",
    "      print(e)\n",
    "    \n",
    "for row in rows:\n",
    "    print (row.ville, row.annee,row.nbclient)"
   ]
  },
  {
   "cell_type": "markdown",
   "metadata": {},
   "source": [
    "#### Query4 ==> \"select * from magasin_byAnnee_2 WHERE annee>2018\""
   ]
  },
  {
   "cell_type": "code",
   "execution_count": 29,
   "metadata": {},
   "outputs": [
    {
     "name": "stdout",
     "output_type": "stream",
     "text": [
      "Error from server: code=2200 [Invalid query] message=\"Cannot execute this query as it might involve data filtering and thus may have unpredictable performance. If you want to execute this query despite the performance unpredictability, use ALLOW FILTERING\"\n"
     ]
    }
   ],
   "source": [
    "#query4   \n",
    "query = \"select * from magasin_byAnnee_2 WHERE annee>2018\"\n",
    "\n",
    "try:\n",
    "      rows = session.execute(query)\n",
    "except Exception as e:\n",
    "      print(e)\n",
    "    \n",
    "for row in rows:\n",
    "    print (row.ville, row.annee,row.nbclient)"
   ]
  },
  {
   "cell_type": "markdown",
   "metadata": {},
   "source": [
    "### Forcer Cassandra à exécuter les requêtes coûteuses en utilisant \"ALLOW FILTERING\"\n",
    "#### Peu efficace ==> risque de parcourir toutes les partitions et par conséquent tous les nœuds du cluster\n"
   ]
  },
  {
   "cell_type": "code",
   "execution_count": 11,
   "metadata": {},
   "outputs": [
    {
     "name": "stdout",
     "output_type": "stream",
     "text": [
      "sba 2019 900\n",
      "sba 2020 1200\n",
      "oran 2019 4000\n",
      "oran 2020 2900\n",
      "-------------------------------\n",
      "oran 2017 3600\n",
      "oran 2019 4000\n",
      "oran 2020 2900\n",
      "-------------------------------\n",
      "oran 2019 4000\n",
      "sba 2019 900\n",
      "oran 2020 2900\n",
      "sba 2020 1200\n"
     ]
    }
   ],
   "source": [
    "#query2    \n",
    "query = \"select * from magasin_byVille_2 WHERE annee>2018 ALLOW FILTERING\"\n",
    "\n",
    "try:\n",
    "      rows = session.execute(query)\n",
    "except Exception as e:\n",
    "      print(e)\n",
    "    \n",
    "for row in rows:\n",
    "    print (row.ville, row.annee,row.nbclient)\n",
    "    \n",
    "print(\"-------------------------------\")\n",
    "\n",
    "\n",
    "\n",
    "#query3\n",
    "query=\"select * from magasin_byVille_2 WHERE ville='oran' and nbClient>1000 ALLOW FILTERING\"\n",
    "try:\n",
    "      rows = session.execute(query)\n",
    "except Exception as e:\n",
    "      print(e)\n",
    "    \n",
    "for row in rows:\n",
    "    print (row.ville, row.annee,row.nbclient)\n",
    "\n",
    "print(\"-------------------------------\")    \n",
    "    \n",
    "\n",
    "    \n",
    "#query4   \n",
    "query = \"select * from magasin_byAnnee_2 WHERE annee>2018 ALLOW FILTERING\"\n",
    "\n",
    "try:\n",
    "      rows = session.execute(query)\n",
    "except Exception as e:\n",
    "      print(e)\n",
    "    \n",
    "for row in rows:\n",
    "    print (row.ville, row.annee,row.nbclient)"
   ]
  },
  {
   "cell_type": "markdown",
   "metadata": {},
   "source": [
    "###  drop  tables. "
   ]
  },
  {
   "cell_type": "code",
   "execution_count": 12,
   "metadata": {},
   "outputs": [],
   "source": [
    "query = \"drop table IF EXISTS  magasin_byVille\"\n",
    "rows = session.execute(query)\n",
    "\n",
    "query = \"drop table IF EXISTS magasin_byVille_2\"\n",
    "rows = session.execute(query)\n",
    "\n",
    "query = \"drop table IF EXISTS magasin_byAnnee\"\n",
    "rows = session.execute(query)\n",
    "\n",
    "query = \"drop table IF EXISTS magasin_byAnnee_2\"\n",
    "rows = session.execute(query)"
   ]
  },
  {
   "cell_type": "markdown",
   "metadata": {},
   "source": [
    "### close the session and cluster connection"
   ]
  },
  {
   "cell_type": "code",
   "execution_count": null,
   "metadata": {},
   "outputs": [],
   "source": [
    "session.shutdown()\n",
    "cluster.shutdown()"
   ]
  },
  {
   "cell_type": "code",
   "execution_count": null,
   "metadata": {},
   "outputs": [],
   "source": []
  }
 ],
 "metadata": {
  "kernelspec": {
   "display_name": "Python 3 (ipykernel)",
   "language": "python",
   "name": "python3"
  },
  "language_info": {
   "codemirror_mode": {
    "name": "ipython",
    "version": 3
   },
   "file_extension": ".py",
   "mimetype": "text/x-python",
   "name": "python",
   "nbconvert_exporter": "python",
   "pygments_lexer": "ipython3",
   "version": "3.10.6"
  }
 },
 "nbformat": 4,
 "nbformat_minor": 2
}
