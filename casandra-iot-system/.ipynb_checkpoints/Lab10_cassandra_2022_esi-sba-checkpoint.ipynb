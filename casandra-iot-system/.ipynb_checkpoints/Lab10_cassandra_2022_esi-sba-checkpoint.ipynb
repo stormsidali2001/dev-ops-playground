{
 "cells": [
  {
   "cell_type": "markdown",
   "metadata": {},
   "source": [
    "# Exercice: Modélisation orientée requête (Cassandra)\n",
    "\n",
    "<table><tr>\n",
    "    <td><img src=\"image/esi-sba.png\" width=\"100\" height=\"100\"></td>\n",
    "    <td><img src=\"image/cassandra.png\" width=\"100\" height=\"100\"></td>\n",
    "    </tr></table>\n",
    "\n"
   ]
  },
  {
   "cell_type": "markdown",
   "metadata": {},
   "source": [
    "### Dans ce notebook, nous allons travailler sur la modélisation orientée requête sous la BDD No-SQL Cassandra, en particulier nous traitons les points suivants :\n",
    "\n",
    "* Dénormaliser une BDD relationnelle en partant du principe 1 table per query \n",
    "* Définir la partie Primary Key pour chaque requête\n",
    "* Optimiser vos modèles en choisissant la bonne Partition Key & Clustering Column\n",
    "* Valider vos modèles \n",
    "* Tester quelques requêtes particulières\n"
   ]
  },
  {
   "cell_type": "markdown",
   "metadata": {},
   "source": [
    "#### installer cassandra-driver afin de se connecter au cluster cassandra\n",
    "! pip install cassandra-driver\n",
    "#### More documentation can be found here:  https://datastax.github.io/python-driver/"
   ]
  },
  {
   "cell_type": "markdown",
   "metadata": {},
   "source": [
    "#### Import Apache Cassandra python package"
   ]
  },
  {
   "cell_type": "code",
   "execution_count": 1,
   "metadata": {},
   "outputs": [],
   "source": [
    "import cassandra"
   ]
  },
  {
   "cell_type": "markdown",
   "metadata": {},
   "source": [
    "### créer une connection au cluster cassandra"
   ]
  },
  {
   "cell_type": "code",
   "execution_count": 2,
   "metadata": {},
   "outputs": [],
   "source": [
    "from cassandra.cluster import Cluster\n",
    "\n",
    "try: \n",
    "    cluster = Cluster(['127.0.0.1']) # si cassandra est installé localement avec le port par défaut 9042\n",
    "    session = cluster.connect()\n",
    "except Exception as e:\n",
    "    print(e)"
   ]
  },
  {
   "cell_type": "markdown",
   "metadata": {},
   "source": [
    "### créer maintenant un keyspace nommé \"iot_esi\""
   ]
  },
  {
   "cell_type": "code",
   "execution_count": 14,
   "metadata": {},
   "outputs": [],
   "source": [
    "try:\n",
    "    \n",
    "    session.execute(\"\"\"\n",
    "    CREATE KEYSPACE IF NOT EXISTS iot \n",
    "    WITH REPLICATION = {'class':'SimpleStrategy','replication_factor':1}\n",
    "    \"\"\");\n",
    " \n",
    "\n",
    "except Exception as e:\n",
    "    print(e)"
   ]
  },
  {
   "cell_type": "markdown",
   "metadata": {},
   "source": [
    "### connecter à votre Keyspace  iot_esi \n"
   ]
  },
  {
   "cell_type": "code",
   "execution_count": 15,
   "metadata": {},
   "outputs": [],
   "source": [
    "try:\n",
    "    \n",
    "    session.set_keyspace(\"iot\")\n",
    "   \n",
    "    \n",
    "except Exception as e:\n",
    "    print(e)"
   ]
  },
  {
   "cell_type": "markdown",
   "metadata": {},
   "source": [
    "### Supposons qu'on a un système IoT qui stocke les données capturées par les différents Sensors en utilisant un modèle RELATIONNEL, tel que est décrit dans le schéma ER ci-dessous:\n",
    "\n",
    "<table><tr>\n",
    "    <td><img src=\"image/ex1_IoT_ER_model.png\" width=\"500\" height=\"500\"></td>\n",
    "      </tr></table>"
   ]
  },
  {
   "cell_type": "markdown",
   "metadata": {},
   "source": [
    "### imaginons  que nous souhaitons analyser ces données à  travers 3 requêtes analytiques:\n",
    "* `Query1= retourner les informations(name, nbSensors) de tous les networks d'une région donnée`\n",
    "* `Query2= retourner les informations (name,type,localisation, characteristics) de tous les Sensors d'un Network donné.`\n",
    "* `Query3= retourner le AVG_measurements par sensor,  par année et par mois.  Ordonner le résultat par  année(desc) et par mois(asc)`"
   ]
  },
  {
   "cell_type": "markdown",
   "metadata": {},
   "source": [
    "#### Créer les trois tables qui correspondent aux requêtes précédentes, en indiquant pour chacune:\n",
    "* Primary Key\n",
    "* Partition Key\n",
    "* Clustering Column"
   ]
  },
  {
   "cell_type": "code",
   "execution_count": 17,
   "metadata": {},
   "outputs": [],
   "source": [
    "try:\n",
    "    \n",
    "    ### select name,nbSensors from ... where region = ''\n",
    "    query1 = \"CREATE TABLE IF NOT EXISTS network_by_region \"\n",
    "    query1 = query1 + \"(name text , nbSensors int , region text , primary key (region , name))\"\n",
    "    session.execute(query1)\n",
    "\n",
    "   \n",
    "    \n",
    "except Exception as e:\n",
    "        print(e)"
   ]
  },
  {
   "cell_type": "code",
   "execution_count": 24,
   "metadata": {},
   "outputs": [],
   "source": [
    "try:\n",
    "    \n",
    "    ### select name,type , location , charcteristics where networkName = ''\n",
    "    query2=\"CREATE TABLE IF NOT EXISTS sensor_by_network\" \n",
    "    query2 = query2 + \"(nameS text , nameNt text ,type text , longtitude float , latitude float, characteristics Map<text,text>\"\n",
    "    query2 = query2 + \", primary key (nameNt,nameS) )\"\n",
    "    session.execute(query2)\n",
    "    \n",
    "    \n",
    "except Exception as e:\n",
    "        print(e)"
   ]
  },
  {
   "cell_type": "code",
   "execution_count": 36,
   "metadata": {},
   "outputs": [],
   "source": [
    "try:\n",
    "    \n",
    "    \n",
    "    ### select AVG_measurements  from ... group by annee , mois order by annee desc , mois asc ;\n",
    "    query3=\"CREATE TABLE IF NOT EXISTS avg_measurement_by_sensor_annee_mois\"\n",
    "    query3 = query3 + \"(nameS text , annee int , mois int , avg_measurement int\"\n",
    "    query3 = query3 + \" , primary key ( (avg_measurement) ,annee,mois)  )\" \n",
    "    query3 = query3 + \"WITH CLUSTERING ORDER BY (annee desc , mois asc) \"\n",
    "    session.execute(query3) \n",
    "    \n",
    "except Exception as e:\n",
    "        print(e)"
   ]
  },
  {
   "cell_type": "markdown",
   "metadata": {},
   "source": [
    "### Une fois vous créez les différentes tables, essayez de les peupler en se basant sur le contenu de la BDD relationnelle.\n",
    "\n",
    "<table><tr>\n",
    "    <td><img src=\"image/data_tables.png\" width=\"600\" height=\"500\"></td></tr>\n",
    "  \n",
    "</table>"
   ]
  },
  {
   "cell_type": "markdown",
   "metadata": {},
   "source": [
    "### Insertion des données dans Table1"
   ]
  },
  {
   "cell_type": "code",
   "execution_count": 38,
   "metadata": {},
   "outputs": [],
   "source": [
    "query = \"INSERT INTO   network_by_region (name,nbSensors,region)\"\n",
    "query = query + \" VALUES (%s,%s,%s)\"\n",
    "\n",
    "\n",
    "try:\n",
    "    session.execute(query, ('esi-net',2,'ouest'))\n",
    "    session.execute(query, ('udl-net',1,'ouest'))\n",
    "    session.execute(query, ('alger-net',2,'centre'))\n",
    "    \n",
    "except Exception as e:\n",
    "        print(e)  "
   ]
  },
  {
   "cell_type": "markdown",
   "metadata": {},
   "source": [
    "### Insertion des données dans Table2"
   ]
  },
  {
   "cell_type": "code",
   "execution_count": 41,
   "metadata": {},
   "outputs": [],
   "source": [
    "query = \"INSERT INTO sensor_by_network(nameS,type,longtitude,latitude,nameNt,characteristics)\"\n",
    "query = query + \" VALUES (%s,%s,%s,%s,%s,%s)\"\n",
    "\n",
    "try:\n",
    "    session.execute(query, ('temp-11','temp',31,-96,'esi-net',{\"accuracy\":\"medium\",\"sensitivity\":\"high\"}))\n",
    "    session.execute(query, ('temp-12','temp',31,-97,'esi-net',{\"accuracy\":\"high\",\"sensitivity\":\"high\"}))\n",
    "    session.execute(query, ('temp-21','temp',32,-97,'udl-net',{\"accuracy\":\"low\",\"sensitivity\":\"medium\"}))\n",
    "    session.execute(query, ('temp-31','temp',44,-111,'alger-net',{\"accuracy\":\"medium\",\"sensitivity\":\"medium\"}))\n",
    "    session.execute(query, ('temp-32','temp',45,-111,'alger-net',{\"accuracy\":\"high\",\"sensitivity\":\"low\"}))\n",
    "    \n",
    "   \n",
    "except Exception as e :\n",
    "        print(e)     "
   ]
  },
  {
   "cell_type": "markdown",
   "metadata": {},
   "source": [
    "### Insertion des données dans Table3"
   ]
  },
  {
   "cell_type": "code",
   "execution_count": 8,
   "metadata": {},
   "outputs": [
    {
     "name": "stdout",
     "output_type": "stream",
     "text": [
      "'ellipsis' object is not iterable\n"
     ]
    }
   ],
   "source": [
    "query = \"INSERT INTO  avg_measurement_by_sensor_annee_mois (avg_measurement,nameS,annee,mois)\"\n",
    "query = query + \" VALUES (%s,%s,%s,%s)\"\n",
    "\n",
    "try:\n",
    "    session.execute(query, (9.5,'temp-11',))\n",
    "    \n",
    "    \n",
    "except Exception as e :\n",
    "        print(e)   "
   ]
  },
  {
   "cell_type": "markdown",
   "metadata": {},
   "source": [
    "### Valider votre modèle en exécutant les requêtes suivantes\n",
    "\n",
    "* Retourner le nombre de sensors dans la région ouest\"\n",
    "\n",
    "* Retourner les sensors qui sont placés dans le network \"esi-net\"\n",
    "\n",
    "* Retourner la température maximale enregistrée par le sensor \"temp-11\" pendant l'année 2021"
   ]
  },
  {
   "cell_type": "code",
   "execution_count": 9,
   "metadata": {
    "scrolled": true
   },
   "outputs": [
    {
     "name": "stdout",
     "output_type": "stream",
     "text": [
      "<Error from server: code=2000 [Syntax error in CQL query] message=\"line 1:0 no viable alternative at input '..' ([..]...)\">\n"
     ]
    }
   ],
   "source": [
    "# query1: Retourner le nombre de sensors dans la région ouest\n",
    "query = \"...\"\n",
    "\n",
    "try:\n",
    "    rows = session.execute(query)\n",
    "    for row in rows:\n",
    "          print (row)\n",
    "except Exception as e:\n",
    "        print(e)           "
   ]
  },
  {
   "cell_type": "code",
   "execution_count": 10,
   "metadata": {
    "scrolled": true
   },
   "outputs": [
    {
     "name": "stdout",
     "output_type": "stream",
     "text": [
      "<Error from server: code=2000 [Syntax error in CQL query] message=\"line 1:0 no viable alternative at input '..' ([..]...)\">\n"
     ]
    }
   ],
   "source": [
    "# query2: Retourner les sensors qui sont placés dans le network \"esi-net\"\n",
    "query = \"... \"\n",
    "\n",
    "try:\n",
    "    rows = session.execute(query)\n",
    "    for row in rows:\n",
    "          print (row)\n",
    "except Exception as e:\n",
    "        print(e)    "
   ]
  },
  {
   "cell_type": "code",
   "execution_count": 33,
   "metadata": {
    "scrolled": true
   },
   "outputs": [
    {
     "name": "stdout",
     "output_type": "stream",
     "text": [
      "Row(system_max_avg_measurements=11.0)\n"
     ]
    }
   ],
   "source": [
    "# query3: Retourner la température maximale enregistrée par le sensor \"temp-11\" pendant l'année 2021\n",
    "query = \"....\"\n",
    "\n",
    "try:\n",
    "    rows = session.execute(query)\n",
    "    for row in rows:\n",
    "          print (row)\n",
    "except Exception as e:\n",
    "        print(e)         "
   ]
  },
  {
   "cell_type": "markdown",
   "metadata": {},
   "source": [
    "### Essayons d'autres requêtes \n",
    "\n",
    "* `Retourner la température maximale enregistrée par le sensor \"temp-11\"  pendant le  mois d'octobre de toutes les années` "
   ]
  },
  {
   "cell_type": "code",
   "execution_count": 34,
   "metadata": {},
   "outputs": [
    {
     "name": "stdout",
     "output_type": "stream",
     "text": [
      "Error from server: code=2200 [Invalid query] message=\"PRIMARY KEY column \"mois\" cannot be restricted as preceding column \"annee\" is not restricted\"\n"
     ]
    }
   ],
   "source": [
    "# query4\n",
    "query = \"....\"\n",
    "\n",
    "\n",
    "\n",
    "try:\n",
    "    rows = session.execute(query)\n",
    "    for row in rows:\n",
    "          print (row)\n",
    "except Exception as e:\n",
    "        print(e)      "
   ]
  },
  {
   "cell_type": "markdown",
   "metadata": {},
   "source": [
    "### Proposer une solution pour optimiser cette requête"
   ]
  },
  {
   "cell_type": "code",
   "execution_count": 35,
   "metadata": {},
   "outputs": [],
   "source": [
    "### make your solution \n",
    "## table creation\n",
    "### Create the table that corresponds to the Query4\n"
   ]
  },
  {
   "cell_type": "code",
   "execution_count": 39,
   "metadata": {},
   "outputs": [
    {
     "name": "stdout",
     "output_type": "stream",
     "text": [
      "Row(system_max_avg_measurements=16.0)\n"
     ]
    }
   ],
   "source": [
    "# query4\n",
    "query = \"...\"\n",
    "\n",
    "\n",
    "\n",
    "try:\n",
    "    rows = session.execute(query)\n",
    "    for row in rows:\n",
    "          print (row)\n",
    "except Exception as e:\n",
    "        print(e)  "
   ]
  },
  {
   "cell_type": "markdown",
   "metadata": {},
   "source": [
    "###  drop  tables. "
   ]
  },
  {
   "cell_type": "code",
   "execution_count": 40,
   "metadata": {},
   "outputs": [],
   "source": [
    "query = \"drop table IF EXISTS ...\"\n",
    "rows = session.execute(query)\n",
    "\n",
    "query = \"drop table IF EXISTS ... \"\n",
    "rows = session.execute(query)\n",
    "\n",
    "query = \"drop table IF EXISTS ....  \"\n",
    "rows = session.execute(query)\n",
    "\n",
    "\n",
    "\n",
    "query = \"drop table IF EXISTS ... \"\n",
    "rows = session.execute(query)"
   ]
  },
  {
   "cell_type": "markdown",
   "metadata": {},
   "source": [
    "### close the session and cluster connection"
   ]
  },
  {
   "cell_type": "code",
   "execution_count": null,
   "metadata": {},
   "outputs": [],
   "source": [
    "session.shutdown()\n",
    "cluster.shutdown()"
   ]
  },
  {
   "cell_type": "code",
   "execution_count": null,
   "metadata": {},
   "outputs": [],
   "source": []
  }
 ],
 "metadata": {
  "kernelspec": {
   "display_name": "Python 3 (ipykernel)",
   "language": "python",
   "name": "python3"
  },
  "language_info": {
   "codemirror_mode": {
    "name": "ipython",
    "version": 3
   },
   "file_extension": ".py",
   "mimetype": "text/x-python",
   "name": "python",
   "nbconvert_exporter": "python",
   "pygments_lexer": "ipython3",
   "version": "3.10.6"
  }
 },
 "nbformat": 4,
 "nbformat_minor": 2
}
